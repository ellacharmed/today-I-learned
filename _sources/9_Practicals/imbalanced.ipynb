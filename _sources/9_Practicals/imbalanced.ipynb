{
 "cells": [
  {
   "attachments": {},
   "cell_type": "markdown",
   "metadata": {},
   "source": [
    "source: https://machinelearningmastery.com/smote-oversampling-for-imbalanced-classification/\n",
    "\n",
    "ebook path: \"Z:\\MEGA\\AISG-Resources\\books resources\\1MachineLearning\\Jason Brownlee - Imbalanced Classification with Python_ Better Metrics, Balance Skewed Classes, Cost-Sensitive Learning (2020).pdf\""
   ]
  },
  {
   "attachments": {},
   "cell_type": "markdown",
   "metadata": {},
   "source": [
    "# SMOTE for Imbalanced Classification with Python\n",
    "~ Last Updated on March 17, 2021\n",
    "\n",
    "Imbalanced classification involves developing predictive models on classification datasets that have a severe class imbalance.\n",
    "\n",
    "The challenge of working with imbalanced datasets is that most machine learning techniques will ignore, and in turn have poor performance on, the minority class, although typically it is performance on the minority class that is most important.\n",
    "\n",
    "One approach to addressing imbalanced datasets is to oversample the minority class. The simplest approach involves duplicating examples in the minority class, although these examples don’t add any new information to the model. Instead, new examples can be synthesized from the existing examples. This is a type of data augmentation for the minority class and is referred to as the Synthetic Minority Oversampling Technique, or SMOTE for short.\n",
    "\n",
    "In this tutorial, you will discover the SMOTE for oversampling imbalanced classification datasets.\n",
    "\n",
    "After completing this tutorial, you will know:\n",
    "\n",
    "    How the SMOTE synthesizes new examples for the minority class.\n",
    "    How to correctly fit and evaluate machine learning models on SMOTE-transformed training datasets.\n",
    "    How to use extensions of the SMOTE that generate synthetic examples along the class decision boundary.\n",
    "\n",
    "Kick-start your project with my new book Imbalanced Classification with Python, including step-by-step tutorials and the Python source code files for all examples.\n",
    "\n",
    "Let’s get started.\n",
    "\n",
    "    Updated Jan/2021: Updated links for API documentation.\n",
    "\n",
    "\n"
   ]
  },
  {
   "cell_type": "code",
   "execution_count": null,
   "metadata": {},
   "outputs": [],
   "source": []
  }
 ],
 "metadata": {
  "language_info": {
   "name": "python"
  },
  "orig_nbformat": 4
 },
 "nbformat": 4,
 "nbformat_minor": 2
}
